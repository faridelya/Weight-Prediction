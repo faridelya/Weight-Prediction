{
 "cells": [
  {
   "cell_type": "code",
   "execution_count": 1,
   "metadata": {},
   "outputs": [],
   "source": [
    "from tensorflow.keras.models import Sequential\n",
    "from tensorflow.keras.layers import Dense \n",
    "from tensorflow.keras.optimizers import Adam, SGD\n",
    "\n",
    "%matplotlib inline\n",
    "import matplotlib.pyplot as plt\n",
    "import numpy as np\n",
    "import pandas as pd"
   ]
  },
  {
   "cell_type": "code",
   "execution_count": 2,
   "metadata": {},
   "outputs": [],
   "source": [
    "df=pd.read_csv('weight-height.csv')"
   ]
  },
  {
   "cell_type": "code",
   "execution_count": 3,
   "metadata": {},
   "outputs": [],
   "source": [
    "X=df[['Height']].values\n",
    "y_true=df[['Weight']].values"
   ]
  },
  {
   "cell_type": "code",
   "execution_count": 4,
   "metadata": {},
   "outputs": [
    {
     "data": {
      "text/plain": [
       "array([[73.84701702],\n",
       "       [68.78190405],\n",
       "       [74.11010539],\n",
       "       ...,\n",
       "       [63.86799221],\n",
       "       [69.03424313],\n",
       "       [61.94424588]])"
      ]
     },
     "execution_count": 4,
     "metadata": {},
     "output_type": "execute_result"
    }
   ],
   "source": [
    "X"
   ]
  },
  {
   "cell_type": "code",
   "execution_count": 5,
   "metadata": {},
   "outputs": [
    {
     "data": {
      "text/plain": [
       "(10000, 1)"
      ]
     },
     "execution_count": 5,
     "metadata": {},
     "output_type": "execute_result"
    }
   ],
   "source": [
    "X.shape"
   ]
  },
  {
   "cell_type": "code",
   "execution_count": 6,
   "metadata": {},
   "outputs": [],
   "source": [
    "model = Sequential()\n",
    "model.add(Dense(1, input_shape=(1,)))"
   ]
  },
  {
   "cell_type": "code",
   "execution_count": 7,
   "metadata": {},
   "outputs": [
    {
     "name": "stdout",
     "output_type": "stream",
     "text": [
      "Model: \"sequential\"\n",
      "_________________________________________________________________\n",
      "Layer (type)                 Output Shape              Param #   \n",
      "=================================================================\n",
      "dense (Dense)                (None, 1)                 2         \n",
      "=================================================================\n",
      "Total params: 2\n",
      "Trainable params: 2\n",
      "Non-trainable params: 0\n",
      "_________________________________________________________________\n"
     ]
    }
   ],
   "source": [
    "model.summary()"
   ]
  },
  {
   "cell_type": "code",
   "execution_count": 8,
   "metadata": {},
   "outputs": [
    {
     "name": "stderr",
     "output_type": "stream",
     "text": [
      "c:\\anaconda\\envs\\py36\\lib\\site-packages\\keras\\optimizer_v2\\optimizer_v2.py:356: UserWarning: The `lr` argument is deprecated, use `learning_rate` instead.\n",
      "  \"The `lr` argument is deprecated, use `learning_rate` instead.\")\n"
     ]
    }
   ],
   "source": [
    "model.compile(Adam(lr=0.8), 'mean_squared_error')"
   ]
  },
  {
   "cell_type": "code",
   "execution_count": 9,
   "metadata": {},
   "outputs": [
    {
     "name": "stdout",
     "output_type": "stream",
     "text": [
      "Epoch 1/40\n",
      "313/313 [==============================] - 1s 1ms/step - loss: 1068.3710\n",
      "Epoch 2/40\n",
      "313/313 [==============================] - 0s 1ms/step - loss: 555.6666\n",
      "Epoch 3/40\n",
      "313/313 [==============================] - 0s 1ms/step - loss: 518.7203\n",
      "Epoch 4/40\n",
      "313/313 [==============================] - 0s 1ms/step - loss: 482.8361\n",
      "Epoch 5/40\n",
      "313/313 [==============================] - 0s 1ms/step - loss: 442.1344\n",
      "Epoch 6/40\n",
      "313/313 [==============================] - 0s 1ms/step - loss: 397.9668\n",
      "Epoch 7/40\n",
      "313/313 [==============================] - 0s 1ms/step - loss: 351.7985\n",
      "Epoch 8/40\n",
      "313/313 [==============================] - 0s 1ms/step - loss: 328.3588\n",
      "Epoch 9/40\n",
      "313/313 [==============================] - 0s 1ms/step - loss: 310.8287\n",
      "Epoch 10/40\n",
      "313/313 [==============================] - 0s 1ms/step - loss: 278.6378\n",
      "Epoch 11/40\n",
      "313/313 [==============================] - 0s 1ms/step - loss: 257.0300\n",
      "Epoch 12/40\n",
      "313/313 [==============================] - 0s 1ms/step - loss: 238.1725\n",
      "Epoch 13/40\n",
      "313/313 [==============================] - 0s 1ms/step - loss: 236.8576\n",
      "Epoch 14/40\n",
      "313/313 [==============================] - 0s 1ms/step - loss: 207.1593\n",
      "Epoch 15/40\n",
      "313/313 [==============================] - 0s 1ms/step - loss: 216.2236\n",
      "Epoch 16/40\n",
      "313/313 [==============================] - 0s 1ms/step - loss: 210.1656\n",
      "Epoch 17/40\n",
      "313/313 [==============================] - 0s 1ms/step - loss: 202.6374\n",
      "Epoch 18/40\n",
      "313/313 [==============================] - 0s 1ms/step - loss: 186.9333\n",
      "Epoch 19/40\n",
      "313/313 [==============================] - 0s 1ms/step - loss: 185.3383\n",
      "Epoch 20/40\n",
      "313/313 [==============================] - 0s 1ms/step - loss: 177.0513\n",
      "Epoch 21/40\n",
      "313/313 [==============================] - 0s 1ms/step - loss: 199.3604\n",
      "Epoch 22/40\n",
      "313/313 [==============================] - 0s 1ms/step - loss: 175.1129\n",
      "Epoch 23/40\n",
      "313/313 [==============================] - 0s 1ms/step - loss: 177.2876\n",
      "Epoch 24/40\n",
      "313/313 [==============================] - 0s 1ms/step - loss: 179.8791\n",
      "Epoch 25/40\n",
      "313/313 [==============================] - 0s 1ms/step - loss: 192.5919\n",
      "Epoch 26/40\n",
      "313/313 [==============================] - 0s 1ms/step - loss: 172.8150\n",
      "Epoch 27/40\n",
      "313/313 [==============================] - 0s 1ms/step - loss: 180.8418\n",
      "Epoch 28/40\n",
      "313/313 [==============================] - 0s 1ms/step - loss: 174.7571\n",
      "Epoch 29/40\n",
      "313/313 [==============================] - 0s 1ms/step - loss: 172.0114\n",
      "Epoch 30/40\n",
      "313/313 [==============================] - 0s 1ms/step - loss: 178.8358\n",
      "Epoch 31/40\n",
      "313/313 [==============================] - 0s 1ms/step - loss: 181.6888\n",
      "Epoch 32/40\n",
      "313/313 [==============================] - 0s 1ms/step - loss: 166.9159\n",
      "Epoch 33/40\n",
      "313/313 [==============================] - 0s 1ms/step - loss: 181.7027\n",
      "Epoch 34/40\n",
      "313/313 [==============================] - 0s 1ms/step - loss: 182.1654\n",
      "Epoch 35/40\n",
      "313/313 [==============================] - 0s 1ms/step - loss: 181.3008A: 0s - loss: 184.\n",
      "Epoch 36/40\n",
      "313/313 [==============================] - 0s 1ms/step - loss: 168.8241\n",
      "Epoch 37/40\n",
      "313/313 [==============================] - 0s 1ms/step - loss: 180.3605\n",
      "Epoch 38/40\n",
      "313/313 [==============================] - 0s 1ms/step - loss: 176.3171\n",
      "Epoch 39/40\n",
      "313/313 [==============================] - 0s 1ms/step - loss: 177.1845\n",
      "Epoch 40/40\n",
      "313/313 [==============================] - 0s 1ms/step - loss: 178.6186\n"
     ]
    },
    {
     "data": {
      "text/plain": [
       "<keras.callbacks.History at 0x23fe8d62a20>"
      ]
     },
     "execution_count": 9,
     "metadata": {},
     "output_type": "execute_result"
    }
   ],
   "source": [
    "model.fit(X,y_true, epochs=40)"
   ]
  },
  {
   "cell_type": "code",
   "execution_count": 18,
   "metadata": {},
   "outputs": [],
   "source": [
    "model.save('abc.h5')"
   ]
  },
  {
   "cell_type": "code",
   "execution_count": 10,
   "metadata": {},
   "outputs": [],
   "source": [
    "y_pred=model.predict(X)"
   ]
  },
  {
   "cell_type": "code",
   "execution_count": 11,
   "metadata": {},
   "outputs": [
    {
     "data": {
      "text/plain": [
       "array([[208.95026 ],\n",
       "       [170.74396 ],\n",
       "       [210.93481 ],\n",
       "       ...,\n",
       "       [133.6781  ],\n",
       "       [172.64734 ],\n",
       "       [119.167175]], dtype=float32)"
      ]
     },
     "execution_count": 11,
     "metadata": {},
     "output_type": "execute_result"
    }
   ],
   "source": [
    "y_pred"
   ]
  },
  {
   "cell_type": "code",
   "execution_count": 12,
   "metadata": {},
   "outputs": [
    {
     "data": {
      "text/plain": [
       "[<matplotlib.lines.Line2D at 0x23fe9014908>]"
      ]
     },
     "execution_count": 12,
     "metadata": {},
     "output_type": "execute_result"
    },
    {
     "data": {
      "image/png": "[encoded data removed]",
      "text/plain": [
       "<Figure size 432x288 with 1 Axes>"
      ]
     },
     "metadata": {
      "needs_background": "light"
     },
     "output_type": "display_data"
    }
   ],
   "source": [
    "df.plot(kind='scatter',\n",
    "       x='Height',\n",
    "       y='Weight', title='Weight and Height in adults')\n",
    "plt.plot(X, y_pred, color='red', linewidth=3)"
   ]
  },
  {
   "cell_type": "code",
   "execution_count": 13,
   "metadata": {},
   "outputs": [],
   "source": [
    "w,b=model.get_weights()"
   ]
  },
  {
   "cell_type": "code",
   "execution_count": 14,
   "metadata": {},
   "outputs": [
    {
     "data": {
      "text/plain": [
       "array([[7.543041]], dtype=float32)"
      ]
     },
     "execution_count": 14,
     "metadata": {},
     "output_type": "execute_result"
    }
   ],
   "source": [
    "w"
   ]
  },
  {
   "cell_type": "code",
   "execution_count": 15,
   "metadata": {},
   "outputs": [
    {
     "data": {
      "text/plain": [
       "array([-348.0808], dtype=float32)"
      ]
     },
     "execution_count": 15,
     "metadata": {},
     "output_type": "execute_result"
    }
   ],
   "source": [
    "b"
   ]
  },
  {
   "cell_type": "code",
   "execution_count": 16,
   "metadata": {},
   "outputs": [
    {
     "data": {
      "text/plain": [
       "10000"
      ]
     },
     "execution_count": 16,
     "metadata": {},
     "output_type": "execute_result"
    }
   ],
   "source": [
    "len(X)"
   ]
  },
  {
   "cell_type": "code",
   "execution_count": 17,
   "metadata": {},
   "outputs": [
    {
     "data": {
      "text/plain": [
       "array([[1160.5275]], dtype=float32)"
      ]
     },
     "execution_count": 17,
     "metadata": {},
     "output_type": "execute_result"
    }
   ],
   "source": [
    "model.predict([[200]])"
   ]
  },
  {
   "cell_type": "code",
   "execution_count": null,
   "metadata": {},
   "outputs": [],
   "source": []
  }
 ],
 "metadata": {
  "kernelspec": {
   "display_name": "Python 3",
   "language": "python",
   "name": "python3"
  },
  "language_info": {
   "codemirror_mode": {
    "name": "ipython",
    "version": 3
   },
   "file_extension": ".py",
   "mimetype": "text/x-python",
   "name": "python",
   "nbconvert_exporter": "python",
   "pygments_lexer": "ipython3",
   "version": "3.6.13"
  }
 },
 "nbformat": 4,
 "nbformat_minor": 2
}
